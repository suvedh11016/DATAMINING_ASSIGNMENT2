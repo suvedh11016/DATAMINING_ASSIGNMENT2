{
 "cells": [
  {
   "cell_type": "markdown",
   "id": "0836571f",
   "metadata": {},
   "source": [
    "---\n",
    "<h1><B> Data Mining(CS5600)  </h1></B></center>\n",
    "\n",
    "---\n",
    "\n",
    "<table>\n",
    "<tr> \n",
    "<td><h3> Assignment : </td>\n",
    "<td><h3> 2 </td>\n",
    "</tr>\n",
    "<tr> \n",
    "<td><h3> Title : </td>\n",
    "<td><h3> Citation Network Analysis </td>\n",
    "</tr>\n",
    "<tr> \n",
    "<td><h3> Team Details : </td>\n",
    "<td>\n",
    "\n",
    "<table>\n",
    "<tr>\n",
    "<th> <h3> Name </th>\n",
    "<th> <h3> Roll Number </th>\n",
    "</tr>\n",
    "\n",
    "\n",
    "\n",
    "<tr> \n",
    "<td><h5> Deva Suvedh </td>\n",
    "<td><h5> CS22BTECH11016 </td>\n",
    "</tr>\n",
    "<tr> \n",
    "<td><h5> Medikonda Sreekar </td>\n",
    "<td><h5> CS22BTECH11037 </td>\n",
    "<tr>\n",
    "<td><h5> Gujjala Vignesh </td>\n",
    "<td><h5> CS22BTECH11025 </td>\n",
    "</tr>\n",
    "<td><h5> Singa Divija Reddy </td>\n",
    "<td><h5> AI22BTECH11026 </td>\n",
    "</tr>\n",
    "<td><h5> Nunavath Vishnu Teja </td>\n",
    "<td><h5> AI22BTECH11030 </td>\n",
    "</tr>\n",
    "\n",
    "<table>\n",
    "\n",
    "\n",
    "\n",
    "</td>\n",
    "</tr>\n",
    "<table>\n"
   ]
  },
  {
   "cell_type": "markdown",
   "id": "333a1f7f",
   "metadata": {},
   "source": [
    "## TASK 1"
   ]
  },
  {
   "cell_type": "code",
   "execution_count": 6,
   "id": "19686fcd",
   "metadata": {},
   "outputs": [
    {
     "name": "stdout",
     "output_type": "stream",
     "text": [
      "Scanning DBLP files for papers (2010–2015 with ≥60 citations)...\n"
     ]
    },
    {
     "name": "stderr",
     "output_type": "stream",
     "text": [
      "Scanning dblp.v10/dblp-ref/dblp-ref-0.json: 0it [00:00, ?it/s]"
     ]
    },
    {
     "name": "stderr",
     "output_type": "stream",
     "text": [
      "Scanning dblp.v10/dblp-ref/dblp-ref-0.json: 1000000it [00:05, 185367.38it/s]\n",
      "Scanning dblp.v10/dblp-ref/dblp-ref-1.json: 1000000it [00:06, 166061.80it/s]\n",
      "Scanning dblp.v10/dblp-ref/dblp-ref-2.json: 1000000it [00:05, 189181.08it/s]\n",
      "Scanning dblp.v10/dblp-ref/dblp-ref-3.json: 79007it [00:00, 214193.34it/s]\n"
     ]
    },
    {
     "name": "stdout",
     "output_type": "stream",
     "text": [
      "\n",
      "✅ Eligible papers found: 49572\n",
      "\n",
      "Building directed citation graph...\n"
     ]
    },
    {
     "name": "stderr",
     "output_type": "stream",
     "text": [
      "Processing dblp.v10/dblp-ref/dblp-ref-0.json: 1000000it [00:04, 201022.58it/s]\n",
      "Processing dblp.v10/dblp-ref/dblp-ref-1.json: 1000000it [00:05, 167565.24it/s]\n",
      "Processing dblp.v10/dblp-ref/dblp-ref-2.json: 1000000it [00:05, 177417.06it/s]\n",
      "Processing dblp.v10/dblp-ref/dblp-ref-3.json: 79007it [00:00, 198878.06it/s]\n"
     ]
    },
    {
     "name": "stdout",
     "output_type": "stream",
     "text": [
      "\n",
      "✅ Graph construction complete!\n",
      "Nodes (papers): 49572\n",
      "Edges (citations): 163309\n",
      "\n",
      "Computing connectivity statistics...\n",
      "\n",
      "===== GRAPH STATISTICS =====\n",
      "Vertices: 49572\n",
      "Edges: 163309\n",
      "Weakly Connected Components: 6985\n",
      "Strongly Connected Components: 47731\n",
      "Nodes in largest WCC: 41225\n",
      "Edges in largest WCC: 161635\n",
      "Nodes in largest SCC: 171\n",
      "Edges in largest SCC: 1190\n",
      "\n",
      "Visualizing a small random subgraph (100 nodes)...\n"
     ]
    },
    {
     "data": {
      "image/png": "[encoded data removed]",
      "text/plain": [
       "<Figure size 1000x800 with 1 Axes>"
      ]
     },
     "metadata": {},
     "output_type": "display_data"
    },
    {
     "name": "stdout",
     "output_type": "stream",
     "text": [
      "\n",
      "✅ Graph saved successfully as 'citation_graph_filtered.gpickle'\n"
     ]
    }
   ],
   "source": [
    "import json\n",
    "import networkx as nx\n",
    "from tqdm import tqdm\n",
    "import glob\n",
    "import random\n",
    "import matplotlib.pyplot as plt\n",
    "\n",
    "# -------------------------------\n",
    "# 📂 Folder containing dblp-ref-*.json files\n",
    "# -------------------------------\n",
    "folder_path = \"dblp.v10/dblp-ref/\"\n",
    "files = sorted(glob.glob(folder_path + \"dblp-ref-*.json\"))\n",
    "\n",
    "# -------------------------------\n",
    "# 1️⃣ Collect eligible papers\n",
    "# -------------------------------\n",
    "eligible_ids = set()\n",
    "paper_meta = {}\n",
    "\n",
    "print(\"Scanning DBLP files for papers (2010–2015 with ≥60 citations)...\")\n",
    "for file_path in files:\n",
    "    with open(file_path, \"r\") as f:\n",
    "        for line in tqdm(f, desc=f\"Scanning {file_path}\"):\n",
    "            data = json.loads(line)\n",
    "            year = data.get(\"year\", 0)\n",
    "            n_cit = data.get(\"n_citation\", 0)\n",
    "            if 2010 <= year <= 2015 and n_cit >= 60:\n",
    "                pid = data[\"id\"]\n",
    "                eligible_ids.add(pid)\n",
    "                paper_meta[pid] = {\n",
    "                    \"title\": data.get(\"title\", \"\"),\n",
    "                    \"n_citation\": n_cit\n",
    "                }\n",
    "\n",
    "print(f\"\\n✅ Eligible papers found: {len(eligible_ids)}\")\n",
    "\n",
    "# -------------------------------\n",
    "# 2️⃣ Build directed citation graph\n",
    "# -------------------------------\n",
    "G = nx.DiGraph()\n",
    "G.add_nodes_from(eligible_ids)\n",
    "\n",
    "print(\"\\nBuilding directed citation graph...\")\n",
    "for file_path in files:\n",
    "    with open(file_path, \"r\") as f:\n",
    "        for line in tqdm(f, desc=f\"Processing {file_path}\"):\n",
    "            data = json.loads(line)\n",
    "            pid = data.get(\"id\")\n",
    "            if pid in eligible_ids:\n",
    "                for ref in data.get(\"references\", []):\n",
    "                    if ref in eligible_ids:\n",
    "                        G.add_edge(pid, ref)\n",
    "\n",
    "print(\"\\n✅ Graph construction complete!\")\n",
    "print(f\"Nodes (papers): {G.number_of_nodes()}\")\n",
    "print(f\"Edges (citations): {G.number_of_edges()}\")\n",
    "\n",
    "# -------------------------------\n",
    "# 3️⃣ Compute graph statistics\n",
    "# -------------------------------\n",
    "print(\"\\nComputing connectivity statistics...\")\n",
    "wccs = list(nx.weakly_connected_components(G))\n",
    "sccs = list(nx.strongly_connected_components(G))\n",
    "\n",
    "largest_wcc = G.subgraph(max(wccs, key=len))\n",
    "largest_scc = G.subgraph(max(sccs, key=len))\n",
    "\n",
    "stats = {\n",
    "    \"Vertices\": G.number_of_nodes(),\n",
    "    \"Edges\": G.number_of_edges(),\n",
    "    \"Weakly Connected Components\": len(wccs),\n",
    "    \"Strongly Connected Components\": len(sccs),\n",
    "    \"Nodes in largest WCC\": largest_wcc.number_of_nodes(),\n",
    "    \"Edges in largest WCC\": largest_wcc.number_of_edges(),\n",
    "    \"Nodes in largest SCC\": largest_scc.number_of_nodes(),\n",
    "    \"Edges in largest SCC\": largest_scc.number_of_edges(),\n",
    "}\n",
    "\n",
    "print(\"\\n===== GRAPH STATISTICS =====\")\n",
    "for k, v in stats.items():\n",
    "    print(f\"{k}: {v}\")\n",
    "\n",
    "# -------------------------------\n",
    "# 4️⃣ Small visualization\n",
    "# -------------------------------\n",
    "print(\"\\nVisualizing a small random subgraph (100 nodes)...\")\n",
    "sample_nodes = random.sample(list(G.nodes()), min(100, len(G.nodes())))\n",
    "H = G.subgraph(sample_nodes)\n",
    "\n",
    "plt.figure(figsize=(10, 8))\n",
    "nx.draw_networkx(H, node_size=30, arrows=False, with_labels=False)\n",
    "plt.title(\"Sample Citation Subgraph (100 Nodes)\")\n",
    "plt.show()\n",
    "\n",
    "# -------------------------------\n",
    "# 5️⃣ Save graph for later tasks (Exercises 2–4)\n",
    "# -------------------------------\n",
    "import pickle\n",
    "\n",
    "with open(\"citation_graph_filtered.gpickle\", \"wb\") as f:\n",
    "    pickle.dump(G, f)\n",
    "\n",
    "print(\"\\n✅ Graph saved successfully as 'citation_graph_filtered.gpickle'\")\n",
    "\n"
   ]
  }
 ],
 "metadata": {
  "kernelspec": {
   "display_name": "base",
   "language": "python",
   "name": "python3"
  },
  "language_info": {
   "codemirror_mode": {
    "name": "ipython",
    "version": 3
   },
   "file_extension": ".py",
   "mimetype": "text/x-python",
   "name": "python",
   "nbconvert_exporter": "python",
   "pygments_lexer": "ipython3",
   "version": "3.12.7"
  }
 },
 "nbformat": 4,
 "nbformat_minor": 5
}
